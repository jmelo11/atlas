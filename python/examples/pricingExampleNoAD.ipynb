{
 "cells": [
  {
   "attachments": {},
   "cell_type": "markdown",
   "metadata": {},
   "source": [
    "# Pricing examples using Atlas (No AD)\n",
    "\n",
    "- Updated: 2023-08-06 \n",
    "- Status: Active"
   ]
  },
  {
   "cell_type": "code",
   "execution_count": 1,
   "metadata": {},
   "outputs": [],
   "source": [
    "import Atlas\n",
    "import Atlas.Visitors as Visitors\n",
    "import Atlas.Parsers as Parsers\n",
    "import pandas as pd"
   ]
  },
  {
   "cell_type": "code",
   "execution_count": 2,
   "metadata": {},
   "outputs": [],
   "source": [
    "evalDate = Atlas.Date(1, Atlas.August, 2020)"
   ]
  },
  {
   "attachments": {},
   "cell_type": "markdown",
   "metadata": {},
   "source": [
    "#### Initialize market variables\n",
    "\n",
    "Market variables are stored in the ```MarketStore```, we add the rate curves, rate indexes and fx exchange rates."
   ]
  },
  {
   "cell_type": "code",
   "execution_count": 3,
   "metadata": {},
   "outputs": [],
   "source": [
    "evalDate = Atlas.Date(1, Atlas.August, 2020)\n",
    "store = Atlas.MarketStore(evalDate, Atlas.CLP()) # store with CLP as base currency\n",
    "\n",
    "# define curve\n",
    "curveDayCounter = Atlas.Actual360()\n",
    "curveCompounding = Atlas.Simple\n",
    "curveFrequency = Atlas.Annual\n",
    "\n",
    "clpRate = 0.03\n",
    "usdRate = 0.01\n",
    "fx = 500\n",
    "\n",
    "\n",
    "index = Atlas.InterestRateIndex(Atlas.Frequency.Annual)\n",
    "# add CLP Curve\n",
    "dates = [evalDate + Atlas.Period(i, Atlas.Years) for i in range(0, 11)]\n",
    "rates = [1 for i in range(0, 11)]\n",
    "clpCurve = Atlas.DiscountLogLinearTermStructure(dates, rates)\n",
    "#clpCurve = Atlas.FlatForwardTermStructure(evalDate, clpRate, curveDayCounter, curveCompounding, curveFrequency)\n",
    "clpContextIdx = store.curveManager().addCurveContext(\"CLP\", clpCurve, index, Atlas.CLP(), True)\n",
    "\n",
    "# add USD Curve\n",
    "usdCurve = Atlas.FlatForwardTermStructure(evalDate, usdRate, curveDayCounter, curveCompounding, curveFrequency)\n",
    "usdContextIdx = store.curveManager().addCurveContext(\"USD\", usdCurve, index, Atlas.USD(), True)\n",
    "\n",
    "# add FX\n",
    "store.fxManager().addExchangeRate(Atlas.CLP(), Atlas.USD(), fx)"
   ]
  },
  {
   "cell_type": "code",
   "execution_count": 4,
   "metadata": {},
   "outputs": [
    {
     "data": {
      "text/plain": [
       "1.0"
      ]
     },
     "execution_count": 4,
     "metadata": {},
     "output_type": "execute_result"
    }
   ],
   "source": [
    "clpCurve.discount(evalDate)"
   ]
  },
  {
   "cell_type": "code",
   "execution_count": 5,
   "metadata": {},
   "outputs": [
    {
     "name": "stdout",
     "output_type": "stream",
     "text": [
      "idx | name | refDate    | currency     | isRiskFree | hasValidIndex\n",
      "0   | CLP  | 2020-08-01 | Chilean peso | true       | true         \n",
      "1   | USD  | 2020-08-01 | U.S. dollar  | true       | true         \n"
     ]
    }
   ],
   "source": [
    "store.curveManager().summary()"
   ]
  },
  {
   "cell_type": "markdown",
   "metadata": {},
   "source": [
    "#### Create an instrument\n",
    "\n",
    "We initialize the instrument with the corresponding discount curve id (passing the context parameter). As default, instrument coupon's are set as \"local\" currency, meaning that their current currency will match the store local currency."
   ]
  },
  {
   "cell_type": "code",
   "execution_count": 6,
   "metadata": {},
   "outputs": [
    {
     "ename": "AttributeError",
     "evalue": "type object 'Atlas.Side' has no attribute 'Recieve'",
     "output_type": "error",
     "traceback": [
      "\u001b[0;31m---------------------------------------------------------------------------\u001b[0m",
      "\u001b[0;31mAttributeError\u001b[0m                            Traceback (most recent call last)",
      "Cell \u001b[0;32mIn[6], line 13\u001b[0m\n\u001b[1;32m     11\u001b[0m endDate \u001b[38;5;241m=\u001b[39m Atlas\u001b[38;5;241m.\u001b[39mDate(\u001b[38;5;241m1\u001b[39m, Atlas\u001b[38;5;241m.\u001b[39mAugust, \u001b[38;5;241m2025\u001b[39m)\n\u001b[1;32m     12\u001b[0m paymentFrequency \u001b[38;5;241m=\u001b[39m Atlas\u001b[38;5;241m.\u001b[39mSemiannual\n\u001b[0;32m---> 13\u001b[0m side \u001b[38;5;241m=\u001b[39m \u001b[43mAtlas\u001b[49m\u001b[38;5;241;43m.\u001b[39;49m\u001b[43mSide\u001b[49m\u001b[38;5;241;43m.\u001b[39;49m\u001b[43mRecieve\u001b[49m\n\u001b[1;32m     14\u001b[0m instrument \u001b[38;5;241m=\u001b[39m Atlas\u001b[38;5;241m.\u001b[39mFixedRateBulletInstrument(startDate, endDate, paymentFrequency, notional, rate, clpContextIdx, side)\n",
      "\u001b[0;31mAttributeError\u001b[0m: type object 'Atlas.Side' has no attribute 'Recieve'"
     ]
    }
   ],
   "source": [
    "#define interest rate\n",
    "rateValue = 0.05\n",
    "dayCounter = Atlas.Thirty360()\n",
    "compounding = Atlas.Simple\n",
    "frequency = Atlas.Annual\n",
    "\n",
    "rate = Atlas.InterestRate(rateValue, dayCounter, compounding, frequency)\n",
    "# define zero coupon instrument\n",
    "notional = 100\n",
    "startDate = evalDate\n",
    "endDate = Atlas.Date(1, Atlas.August, 2025)\n",
    "paymentFrequency = Atlas.Semiannual\n",
    "side = Atlas.Side.Recieve\n",
    "instrument = Atlas.FixedRateBulletInstrument(startDate, endDate, paymentFrequency, notional, rate, clpContextIdx, side)"
   ]
  },
  {
   "cell_type": "code",
   "execution_count": null,
   "metadata": {},
   "outputs": [
    {
     "data": {
      "text/plain": [
       "<Atlas.FixedRateCashflows at 0x1471c1570>"
      ]
     },
     "execution_count": 28,
     "metadata": {},
     "output_type": "execute_result"
    }
   ],
   "source": [
    "instrument.cashflows()"
   ]
  },
  {
   "cell_type": "markdown",
   "metadata": {},
   "source": [
    "#### Inspect the cashflows\n",
    "We can use the CashflowProfiler visitor to check the instrument cashflows."
   ]
  },
  {
   "cell_type": "code",
   "execution_count": null,
   "metadata": {},
   "outputs": [
    {
     "data": {
      "text/html": [
       "<div>\n",
       "<style scoped>\n",
       "    .dataframe tbody tr th:only-of-type {\n",
       "        vertical-align: middle;\n",
       "    }\n",
       "\n",
       "    .dataframe tbody tr th {\n",
       "        vertical-align: top;\n",
       "    }\n",
       "\n",
       "    .dataframe thead th {\n",
       "        text-align: right;\n",
       "    }\n",
       "</style>\n",
       "<table border=\"1\" class=\"dataframe\">\n",
       "  <thead>\n",
       "    <tr style=\"text-align: right;\">\n",
       "      <th></th>\n",
       "      <th>disbursements</th>\n",
       "      <th>redemptions</th>\n",
       "      <th>fixedRateCoupons</th>\n",
       "    </tr>\n",
       "  </thead>\n",
       "  <tbody>\n",
       "    <tr>\n",
       "      <th>2020-08-01</th>\n",
       "      <td>100.0</td>\n",
       "      <td>NaN</td>\n",
       "      <td>NaN</td>\n",
       "    </tr>\n",
       "    <tr>\n",
       "      <th>2021-02-01</th>\n",
       "      <td>NaN</td>\n",
       "      <td>NaN</td>\n",
       "      <td>2.5</td>\n",
       "    </tr>\n",
       "    <tr>\n",
       "      <th>2021-08-01</th>\n",
       "      <td>NaN</td>\n",
       "      <td>NaN</td>\n",
       "      <td>2.5</td>\n",
       "    </tr>\n",
       "    <tr>\n",
       "      <th>2022-02-01</th>\n",
       "      <td>NaN</td>\n",
       "      <td>NaN</td>\n",
       "      <td>2.5</td>\n",
       "    </tr>\n",
       "    <tr>\n",
       "      <th>2022-08-01</th>\n",
       "      <td>NaN</td>\n",
       "      <td>NaN</td>\n",
       "      <td>2.5</td>\n",
       "    </tr>\n",
       "    <tr>\n",
       "      <th>2023-02-01</th>\n",
       "      <td>NaN</td>\n",
       "      <td>NaN</td>\n",
       "      <td>2.5</td>\n",
       "    </tr>\n",
       "    <tr>\n",
       "      <th>2023-08-01</th>\n",
       "      <td>NaN</td>\n",
       "      <td>NaN</td>\n",
       "      <td>2.5</td>\n",
       "    </tr>\n",
       "    <tr>\n",
       "      <th>2024-02-01</th>\n",
       "      <td>NaN</td>\n",
       "      <td>NaN</td>\n",
       "      <td>2.5</td>\n",
       "    </tr>\n",
       "    <tr>\n",
       "      <th>2024-08-01</th>\n",
       "      <td>NaN</td>\n",
       "      <td>NaN</td>\n",
       "      <td>2.5</td>\n",
       "    </tr>\n",
       "    <tr>\n",
       "      <th>2025-02-01</th>\n",
       "      <td>NaN</td>\n",
       "      <td>NaN</td>\n",
       "      <td>2.5</td>\n",
       "    </tr>\n",
       "    <tr>\n",
       "      <th>2025-08-01</th>\n",
       "      <td>NaN</td>\n",
       "      <td>100.0</td>\n",
       "      <td>2.5</td>\n",
       "    </tr>\n",
       "  </tbody>\n",
       "</table>\n",
       "</div>"
      ],
      "text/plain": [
       "            disbursements  redemptions  fixedRateCoupons\n",
       "2020-08-01          100.0          NaN               NaN\n",
       "2021-02-01            NaN          NaN               2.5\n",
       "2021-08-01            NaN          NaN               2.5\n",
       "2022-02-01            NaN          NaN               2.5\n",
       "2022-08-01            NaN          NaN               2.5\n",
       "2023-02-01            NaN          NaN               2.5\n",
       "2023-08-01            NaN          NaN               2.5\n",
       "2024-02-01            NaN          NaN               2.5\n",
       "2024-08-01            NaN          NaN               2.5\n",
       "2025-02-01            NaN          NaN               2.5\n",
       "2025-08-01            NaN        100.0               2.5"
      ]
     },
     "execution_count": 29,
     "metadata": {},
     "output_type": "execute_result"
    }
   ],
   "source": [
    "profiler = Visitors.InstrumentCashflowsConstVisitor()\n",
    "profiler.visit(instrument)\n",
    "results = profiler.getResults()\n",
    "pd.DataFrame({'disbursements': results.disbursements, 'redemptions': results.redemptions, 'fixedRateCoupons': results.fixedRateCoupons}).sort_index()"
   ]
  },
  {
   "attachments": {},
   "cell_type": "markdown",
   "metadata": {},
   "source": [
    "### Evaluation process"
   ]
  },
  {
   "cell_type": "markdown",
   "metadata": {},
   "source": [
    "#### 1. Index the instrument\n",
    "In the indexing phase, market variables are obtained and stored in a MarketRequest object. This information will be used by a Model, which is in charge of producing all the market data needed for later calculations."
   ]
  },
  {
   "cell_type": "code",
   "execution_count": null,
   "metadata": {},
   "outputs": [],
   "source": [
    "indexer = Visitors.IndexingVisitor()\n",
    "indexer.visit(instrument)\n",
    "request = indexer.getResults()"
   ]
  },
  {
   "attachments": {},
   "cell_type": "markdown",
   "metadata": {},
   "source": [
    "#### 2. Setup a model and simulate market variables\n",
    "Currently the only model available (SpotMarketDataModel), takes the market information and generates values assuming common linear product's assumptions."
   ]
  },
  {
   "cell_type": "code",
   "execution_count": null,
   "metadata": {},
   "outputs": [],
   "source": [
    "model = Atlas.SpotMarketDataModel(request, store)\n",
    "marketData = model.marketData(evalDate)"
   ]
  },
  {
   "attachments": {},
   "cell_type": "markdown",
   "metadata": {},
   "source": [
    "#### 3. Setup a visitor and evaluate\n",
    "Visitor are the ones in charge to do evaluations. When visiting, Visitor will execute the precise code needed for each type of instrument."
   ]
  },
  {
   "attachments": {},
   "cell_type": "markdown",
   "metadata": {},
   "source": [
    "- Instrument NPV: ```NPVConstVisitor```\n",
    "\n",
    "This visitor calculates the NPV of each instruments and adds it to an internal variables called npv_, so if it visits many instrument, the value returned by ```results``` will be the sum of each NPV. In the case of a fixed bond, the NPV is being calculated as:\n",
    "\n",
    "$$NPV^l = \\frac{\\Sigma_{1}^{N}c_{i}^{f}df^{f}_{i}}{fx^{f/l}}$$"
   ]
  },
  {
   "cell_type": "code",
   "execution_count": null,
   "metadata": {},
   "outputs": [
    {
     "name": "stdout",
     "output_type": "stream",
     "text": [
      "NPV: 9.8990\n"
     ]
    }
   ],
   "source": [
    "npvCalculator = Visitors.NPVConstVisitor(marketData)\n",
    "npvCalculator.visit(instrument)\n",
    "npv = npvCalculator.getResults()\n",
    "print(\"NPV: {:.4f}\".format(npv.npv))"
   ]
  },
  {
   "attachments": {},
   "cell_type": "markdown",
   "metadata": {},
   "source": [
    "If we want to calculate the insturment duration, we can use the tape (AD). In this case, the duration is being calculated as:\n",
    "\n",
    "$$Dur = \\frac{dNPV}{dr}$$"
   ]
  },
  {
   "cell_type": "code",
   "execution_count": null,
   "metadata": {},
   "outputs": [
    {
     "name": "stdout",
     "output_type": "stream",
     "text": [
      "Sens to coupon rate: 4.6212\n"
     ]
    }
   ],
   "source": [
    "sensCalculator = Visitors.SensitivityConstVisitor(marketData)\n",
    "sensCalculator.visit(instrument)\n",
    "sens = sensCalculator.getResults()\n",
    "sensCalculator.reset()\n",
    "print(\"Sens to coupon rate: {:.4f}\".format(sens.couponSens))"
   ]
  },
  {
   "attachments": {},
   "cell_type": "markdown",
   "metadata": {},
   "source": [
    "- Fixed Income Par Rate: ```ParRateConstVisitor```\n",
    "\n",
    "This visitor calculates the par rate of a given instrument (in this case, rates are not \"accumulated\" as before). The par rate is calculated, for a fixed rate instruments as follows:\n",
    "\n",
    "$$r = \\argmin_r (\\frac{\\Sigma_{1}^{T}c_{i}(r) df_{i}}{N} - df_0)^2$$\n",
    "\n",
    "Where $df_0$ helps bringing the disbursement to the current evaluation date."
   ]
  },
  {
   "cell_type": "code",
   "execution_count": null,
   "metadata": {},
   "outputs": [
    {
     "name": "stdout",
     "output_type": "stream",
     "text": [
      "Par Rate: 2.8579%\n"
     ]
    }
   ],
   "source": [
    "parSolver = Visitors.ParRateConstVisitor(marketData)\n",
    "parSolver.visit(instrument)\n",
    "rate = parSolver.getResults()\n",
    "print(\"Par Rate: {:.4f}%\".format(rate.parRate*100))"
   ]
  },
  {
   "attachments": {},
   "cell_type": "markdown",
   "metadata": {},
   "source": [
    "- Fixed Income Z-Spread: ```ZSpreadCalculator```\n",
    "\n",
    "This visitor calculates the z-spread of a fixed rate instrument (does not apply to other types of instruments). \n",
    "\n",
    "$$s = \\argmin_s ({\\Sigma_{1}^{N}c_{i} df_{i}(s)} - NPV_{target})^2$$\n",
    "\n",
    "Where $df_i$ will be calculated using the given day counter, compounding and frequency."
   ]
  },
  {
   "cell_type": "code",
   "execution_count": null,
   "metadata": {},
   "outputs": [
    {
     "name": "stdout",
     "output_type": "stream",
     "text": [
      "Z-spread: CLP+249.06 bps\n"
     ]
    }
   ],
   "source": [
    "targetNPV = 100\n",
    "zspreadCalculator = Visitors.ZSpreadConstVisitor(marketData, targetNPV, dayCounter=Atlas.Actual360(), compounding=Atlas.Simple, frequency=Atlas.Annual)\n",
    "zspreadCalculator.visit(instrument)\n",
    "zspread = zspreadCalculator.getResults()\n",
    "print(\"Z-spread: CLP+{:.2f} bps\".format(zspread*10000))"
   ]
  }
 ],
 "metadata": {
  "kernelspec": {
   "display_name": "Python 3",
   "language": "python",
   "name": "python3"
  },
  "language_info": {
   "codemirror_mode": {
    "name": "ipython",
    "version": 3
   },
   "file_extension": ".py",
   "mimetype": "text/x-python",
   "name": "python",
   "nbconvert_exporter": "python",
   "pygments_lexer": "ipython3",
   "version": "3.10.13"
  },
  "orig_nbformat": 4
 },
 "nbformat": 4,
 "nbformat_minor": 2
}
