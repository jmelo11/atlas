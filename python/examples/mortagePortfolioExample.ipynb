{
 "cells": [
  {
   "attachments": {},
   "cell_type": "markdown",
   "metadata": {},
   "source": [
    "# Portfolio examples using Atlas (No AD)\n",
    "\n",
    "- Updated: 2023-07-17 \n",
    "- Status: Active"
   ]
  },
  {
   "cell_type": "code",
   "execution_count": 19,
   "metadata": {},
   "outputs": [],
   "source": [
    "import Atlas\n",
    "import Atlas.Visitors as Visitors\n",
    "import Atlas.Parsers as Parsers\n",
    "import random\n",
    "import pandas as pd\n",
    "import sys\n",
    "from tqdm import tqdm\n",
    "import matplotlib.pyplot as plt"
   ]
  },
  {
   "attachments": {},
   "cell_type": "markdown",
   "metadata": {},
   "source": [
    "### Market Setup\n",
    "First, we create a curve. As the time of writing, the only available curve is the ```ZeroRateCurveStrategy```. We create random rates and register them in the tape."
   ]
  },
  {
   "cell_type": "code",
   "execution_count": 20,
   "metadata": {},
   "outputs": [],
   "source": [
    "## Create Market Data\n",
    "evalDate = Atlas.Date(1, Atlas.August, 2020)\n",
    "store = Atlas.MarketStore(evalDate, Atlas.CLF()) # store with USD as base currency\n",
    "\n",
    "# create random rates\n",
    "dt = 0.5\n",
    "t = []\n",
    "rates = []\n",
    "dates = []\n",
    "startRate = 0.01\n",
    "for i in range(40):\n",
    "    rate =startRate + random.random()*0.01 \n",
    "    rates.append(rate)\n",
    "    t.append(i*dt)\n",
    "    dates.append(evalDate + int(i*180))\n",
    "\n",
    "# define curve\n",
    "curveDayCounter = Atlas.Actual360()\n",
    "curveCompounding = Atlas.Simple\n",
    "curveFrequency = Atlas.Annual\n",
    "\n",
    "strategy = Atlas.ZeroRateLinearStrategy(dates, rates)\n",
    "curve = Atlas.YieldTermStructure(strategy)\n",
    "index = Atlas.RateIndex(evalDate, curveFrequency, curveDayCounter, curveFrequency, curveCompounding)\n",
    "store.addCurve(\"CLF\", curve, index)"
   ]
  },
  {
   "attachments": {},
   "cell_type": "markdown",
   "metadata": {},
   "source": [
    "### Portfolio Setup\n",
    "\n",
    "We create a random porfolio of ```EqualPaymentInstrument```."
   ]
  },
  {
   "cell_type": "code",
   "execution_count": 21,
   "metadata": {},
   "outputs": [],
   "source": [
    "## set seed\n",
    "random.seed(1234)\n",
    "def generateInstruments(numInstruments):\n",
    "    instruments = []\n",
    "    for i in tqdm(range(numInstruments)):\n",
    "        # Generate random start and end dates\n",
    "        startYear = random.randint(2010, 2020)\n",
    "        endYear = random.randint(2021, 2035)\n",
    "        startDate = Atlas.Date(1, Atlas.August, startYear)\n",
    "        endDate = Atlas.Date(1, Atlas.August, endYear)\n",
    "        \n",
    "        # Create the instrument with random parameters\n",
    "        rateValue = random.uniform(0.01, 0.1)\n",
    "        dayCounter = Atlas.Thirty360()\n",
    "        compounding = Atlas.Compounded\n",
    "        frequency = Atlas.Annual\n",
    "        rate = Atlas.InterestRate(rateValue, dayCounter, compounding, frequency)\n",
    "\n",
    "        discountContext = store.curveContext(\"CLF\")\n",
    "        \n",
    "        notional = random.uniform(1_000, 10_000)\n",
    "        paymentFrequency = Atlas.Monthly\n",
    "        instrument = Atlas.EqualPaymentInstrument(startDate, endDate, paymentFrequency, notional, rate, discountContext)\n",
    "        instruments.append(instrument)\n",
    "    return instruments"
   ]
  },
  {
   "cell_type": "code",
   "execution_count": 22,
   "metadata": {},
   "outputs": [
    {
     "name": "stderr",
     "output_type": "stream",
     "text": [
      "  0%|          | 0/150000 [00:00<?, ?it/s]"
     ]
    },
    {
     "name": "stderr",
     "output_type": "stream",
     "text": [
      "100%|██████████| 150000/150000 [00:16<00:00, 8845.33it/s]\n"
     ]
    }
   ],
   "source": [
    "instruments = generateInstruments(150_000)"
   ]
  },
  {
   "cell_type": "code",
   "execution_count": 23,
   "metadata": {},
   "outputs": [
    {
     "name": "stdout",
     "output_type": "stream",
     "text": [
      "Memory usage: 1.28316 MB\n"
     ]
    }
   ],
   "source": [
    "size = sys.getsizeof(instruments)\n",
    "print(f\"Memory usage: {size/1_000_000} MB\")"
   ]
  },
  {
   "attachments": {},
   "cell_type": "markdown",
   "metadata": {},
   "source": [
    "### Indexing and Pricing\n",
    "\n",
    "As always, we index the instruments, produce the market data points and price each instrument."
   ]
  },
  {
   "cell_type": "code",
   "execution_count": 24,
   "metadata": {},
   "outputs": [],
   "source": [
    "#indexing\n",
    "indexer = Visitors.IndexingVisitor()\n",
    "for inst in instruments:\n",
    "    indexer.visit(inst)\n",
    "\n",
    "request = indexer.getResults()\n",
    "\n",
    "#market data simulation\n",
    "model = Atlas.SpotMarketDataModel(request, store)\n",
    "marketData = model.marketData(evalDate)"
   ]
  },
  {
   "attachments": {},
   "cell_type": "markdown",
   "metadata": {},
   "source": [
    "We calculate the NPV of the portfolio."
   ]
  },
  {
   "cell_type": "code",
   "execution_count": 25,
   "metadata": {},
   "outputs": [
    {
     "name": "stdout",
     "output_type": "stream",
     "text": [
      "NPV:  672139922.4052192\n"
     ]
    }
   ],
   "source": [
    "npvCalculator = Visitors.NPVConstVisitor(marketData)\n",
    "\n",
    "for inst in instruments:\n",
    "    npvCalculator.visit(inst)\n",
    "\n",
    "npv = npvCalculator.getResults()\n",
    "print(\"NPV: \", npv)"
   ]
  },
  {
   "cell_type": "code",
   "execution_count": 26,
   "metadata": {},
   "outputs": [
    {
     "data": {
      "text/html": [
       "<div>\n",
       "<style scoped>\n",
       "    .dataframe tbody tr th:only-of-type {\n",
       "        vertical-align: middle;\n",
       "    }\n",
       "\n",
       "    .dataframe tbody tr th {\n",
       "        vertical-align: top;\n",
       "    }\n",
       "\n",
       "    .dataframe thead th {\n",
       "        text-align: right;\n",
       "    }\n",
       "</style>\n",
       "<table border=\"1\" class=\"dataframe\">\n",
       "  <thead>\n",
       "    <tr style=\"text-align: right;\">\n",
       "      <th></th>\n",
       "      <th>interests</th>\n",
       "      <th>redemptions</th>\n",
       "    </tr>\n",
       "  </thead>\n",
       "  <tbody>\n",
       "    <tr>\n",
       "      <th>2010-09-01</th>\n",
       "      <td>326689.873744</td>\n",
       "      <td>231250.145962</td>\n",
       "    </tr>\n",
       "    <tr>\n",
       "      <th>2010-10-01</th>\n",
       "      <td>325775.214039</td>\n",
       "      <td>232164.805668</td>\n",
       "    </tr>\n",
       "    <tr>\n",
       "      <th>2010-11-01</th>\n",
       "      <td>324855.994791</td>\n",
       "      <td>233084.024916</td>\n",
       "    </tr>\n",
       "    <tr>\n",
       "      <th>2010-12-01</th>\n",
       "      <td>323932.190025</td>\n",
       "      <td>234007.829681</td>\n",
       "    </tr>\n",
       "    <tr>\n",
       "      <th>2011-01-01</th>\n",
       "      <td>323003.773607</td>\n",
       "      <td>234936.246100</td>\n",
       "    </tr>\n",
       "    <tr>\n",
       "      <th>...</th>\n",
       "      <td>...</td>\n",
       "      <td>...</td>\n",
       "    </tr>\n",
       "    <tr>\n",
       "      <th>2035-04-01</th>\n",
       "      <td>9285.957436</td>\n",
       "      <td>379596.602363</td>\n",
       "    </tr>\n",
       "    <tr>\n",
       "      <th>2035-05-01</th>\n",
       "      <td>7449.736347</td>\n",
       "      <td>381432.823452</td>\n",
       "    </tr>\n",
       "    <tr>\n",
       "      <th>2035-06-01</th>\n",
       "      <td>5603.094746</td>\n",
       "      <td>383279.465053</td>\n",
       "    </tr>\n",
       "    <tr>\n",
       "      <th>2035-07-01</th>\n",
       "      <td>3745.968157</td>\n",
       "      <td>385136.591643</td>\n",
       "    </tr>\n",
       "    <tr>\n",
       "      <th>2035-08-01</th>\n",
       "      <td>1878.291681</td>\n",
       "      <td>387004.268118</td>\n",
       "    </tr>\n",
       "  </tbody>\n",
       "</table>\n",
       "<p>300 rows × 2 columns</p>\n",
       "</div>"
      ],
      "text/plain": [
       "                interests    redemptions\n",
       "2010-09-01  326689.873744  231250.145962\n",
       "2010-10-01  325775.214039  232164.805668\n",
       "2010-11-01  324855.994791  233084.024916\n",
       "2010-12-01  323932.190025  234007.829681\n",
       "2011-01-01  323003.773607  234936.246100\n",
       "...                   ...            ...\n",
       "2035-04-01    9285.957436  379596.602363\n",
       "2035-05-01    7449.736347  381432.823452\n",
       "2035-06-01    5603.094746  383279.465053\n",
       "2035-07-01    3745.968157  385136.591643\n",
       "2035-08-01    1878.291681  387004.268118\n",
       "\n",
       "[300 rows x 2 columns]"
      ]
     },
     "execution_count": 26,
     "metadata": {},
     "output_type": "execute_result"
    }
   ],
   "source": [
    "cashflowsVisitor = Visitors.InstrumentCashflowsConstVisitor()\n",
    "for inst in instruments:\n",
    "    cashflowsVisitor.visit(inst)\n",
    "\n",
    "cashflows = pd.DataFrame(cashflowsVisitor.getResults())\n",
    "cashflows"
   ]
  },
  {
   "cell_type": "code",
   "execution_count": 27,
   "metadata": {},
   "outputs": [
    {
     "name": "stderr",
     "output_type": "stream",
     "text": [
      "/var/folders/cp/l432p0ns1t38qmnyr_3l3r000000gn/T/ipykernel_49884/3219376508.py:3: FutureWarning: Dropping of nuisance columns in DataFrame reductions (with 'numeric_only=None') is deprecated; in a future version this will raise TypeError.  Select only valid columns before calling the reduction.\n",
      "  cashflows = cashflows.assign(total=cashflows.sum(axis=1))\n"
     ]
    },
    {
     "data": {
      "text/html": [
       "<div>\n",
       "<style scoped>\n",
       "    .dataframe tbody tr th:only-of-type {\n",
       "        vertical-align: middle;\n",
       "    }\n",
       "\n",
       "    .dataframe tbody tr th {\n",
       "        vertical-align: top;\n",
       "    }\n",
       "\n",
       "    .dataframe thead th {\n",
       "        text-align: right;\n",
       "    }\n",
       "</style>\n",
       "<table border=\"1\" class=\"dataframe\">\n",
       "  <thead>\n",
       "    <tr style=\"text-align: right;\">\n",
       "      <th></th>\n",
       "      <th>interests</th>\n",
       "      <th>redemptions</th>\n",
       "      <th>total</th>\n",
       "    </tr>\n",
       "    <tr>\n",
       "      <th>date</th>\n",
       "      <th></th>\n",
       "      <th></th>\n",
       "      <th></th>\n",
       "    </tr>\n",
       "  </thead>\n",
       "  <tbody>\n",
       "    <tr>\n",
       "      <th>2020-01-01</th>\n",
       "      <td>2.380878e+06</td>\n",
       "      <td>5.343072e+06</td>\n",
       "      <td>7.723950e+06</td>\n",
       "    </tr>\n",
       "    <tr>\n",
       "      <th>2020-02-01</th>\n",
       "      <td>2.357597e+06</td>\n",
       "      <td>5.366353e+06</td>\n",
       "      <td>7.723950e+06</td>\n",
       "    </tr>\n",
       "    <tr>\n",
       "      <th>2020-03-01</th>\n",
       "      <td>2.334191e+06</td>\n",
       "      <td>5.389758e+06</td>\n",
       "      <td>7.723950e+06</td>\n",
       "    </tr>\n",
       "    <tr>\n",
       "      <th>2020-04-01</th>\n",
       "      <td>2.310660e+06</td>\n",
       "      <td>5.413289e+06</td>\n",
       "      <td>7.723950e+06</td>\n",
       "    </tr>\n",
       "    <tr>\n",
       "      <th>2020-05-01</th>\n",
       "      <td>2.287004e+06</td>\n",
       "      <td>5.436946e+06</td>\n",
       "      <td>7.723950e+06</td>\n",
       "    </tr>\n",
       "    <tr>\n",
       "      <th>2020-06-01</th>\n",
       "      <td>2.263221e+06</td>\n",
       "      <td>5.460729e+06</td>\n",
       "      <td>7.723950e+06</td>\n",
       "    </tr>\n",
       "    <tr>\n",
       "      <th>2020-07-01</th>\n",
       "      <td>2.239310e+06</td>\n",
       "      <td>5.484640e+06</td>\n",
       "      <td>7.723950e+06</td>\n",
       "    </tr>\n",
       "    <tr>\n",
       "      <th>2020-08-01</th>\n",
       "      <td>2.215271e+06</td>\n",
       "      <td>5.508678e+06</td>\n",
       "      <td>7.723950e+06</td>\n",
       "    </tr>\n",
       "    <tr>\n",
       "      <th>2020-09-01</th>\n",
       "      <td>2.520977e+06</td>\n",
       "      <td>6.775686e+06</td>\n",
       "      <td>9.296664e+06</td>\n",
       "    </tr>\n",
       "    <tr>\n",
       "      <th>2020-10-01</th>\n",
       "      <td>2.491346e+06</td>\n",
       "      <td>6.805318e+06</td>\n",
       "      <td>9.296664e+06</td>\n",
       "    </tr>\n",
       "    <tr>\n",
       "      <th>2020-11-01</th>\n",
       "      <td>2.461555e+06</td>\n",
       "      <td>6.835108e+06</td>\n",
       "      <td>9.296664e+06</td>\n",
       "    </tr>\n",
       "    <tr>\n",
       "      <th>2020-12-01</th>\n",
       "      <td>2.431606e+06</td>\n",
       "      <td>6.865058e+06</td>\n",
       "      <td>9.296664e+06</td>\n",
       "    </tr>\n",
       "  </tbody>\n",
       "</table>\n",
       "</div>"
      ],
      "text/plain": [
       "               interests   redemptions         total\n",
       "date                                                \n",
       "2020-01-01  2.380878e+06  5.343072e+06  7.723950e+06\n",
       "2020-02-01  2.357597e+06  5.366353e+06  7.723950e+06\n",
       "2020-03-01  2.334191e+06  5.389758e+06  7.723950e+06\n",
       "2020-04-01  2.310660e+06  5.413289e+06  7.723950e+06\n",
       "2020-05-01  2.287004e+06  5.436946e+06  7.723950e+06\n",
       "2020-06-01  2.263221e+06  5.460729e+06  7.723950e+06\n",
       "2020-07-01  2.239310e+06  5.484640e+06  7.723950e+06\n",
       "2020-08-01  2.215271e+06  5.508678e+06  7.723950e+06\n",
       "2020-09-01  2.520977e+06  6.775686e+06  9.296664e+06\n",
       "2020-10-01  2.491346e+06  6.805318e+06  9.296664e+06\n",
       "2020-11-01  2.461555e+06  6.835108e+06  9.296664e+06\n",
       "2020-12-01  2.431606e+06  6.865058e+06  9.296664e+06"
      ]
     },
     "execution_count": 27,
     "metadata": {},
     "output_type": "execute_result"
    }
   ],
   "source": [
    "results = cashflowsVisitor.getResults()\n",
    "cashflows = cashflows.assign(date=cashflows.index.astype(str))\n",
    "cashflows = cashflows.assign(total=cashflows.sum(axis=1))\n",
    "cashflows.index = pd.to_datetime(cashflows.date)\n",
    "cashflows = cashflows.drop(columns=['date'])\n",
    "cashflows.loc['2020']"
   ]
  },
  {
   "cell_type": "code",
   "execution_count": 28,
   "metadata": {},
   "outputs": [
    {
     "data": {
      "text/plain": [
       "[<matplotlib.lines.Line2D at 0x3e5e5bac0>]"
      ]
     },
     "execution_count": 28,
     "metadata": {},
     "output_type": "execute_result"
    },
    {
     "data": {
      "image/png": "[encoded data removed]",
      "text/plain": [
       "<Figure size 640x480 with 1 Axes>"
      ]
     },
     "metadata": {},
     "output_type": "display_data"
    }
   ],
   "source": [
    "plt.plot(cashflows.redemptions)\n",
    "plt.plot(cashflows.interests)\n",
    "plt.plot(cashflows.total)"
   ]
  },
  {
   "cell_type": "code",
   "execution_count": 29,
   "metadata": {},
   "outputs": [
    {
     "data": {
      "text/plain": [
       "2520977.0744802905"
      ]
     },
     "execution_count": 29,
     "metadata": {},
     "output_type": "execute_result"
    }
   ],
   "source": [
    "accrualVisitor = Visitors.AccruedAmountConstVisitor(Parsers.parseDate(\"2020-08-01\"), Parsers.parseDate(\"2020-09-01\"))\n",
    "for inst in instruments:\n",
    "    accrualVisitor.visit(inst)\n",
    "accrualVisitor.getResults()"
   ]
  },
  {
   "cell_type": "code",
   "execution_count": 30,
   "metadata": {},
   "outputs": [],
   "source": [
    "class RollOverMachine:\n",
    "    def __init__(self, evalStart, evalEnd, marketStore):\n",
    "        self.evalStart = evalStart\n",
    "        self.evalEnd = evalEnd\n",
    "        self.marketStore = marketStore\n",
    "        self.simInstruments = []\n",
    "\n",
    "    def __getMarketData(self, evalDate, request):\n",
    "        model = Atlas.SpotMarketDataModel(request, self.marketStore)\n",
    "        return model.marketData(evalDate)\n",
    "\n",
    "    def __getMaturingAmount(self, evalDate, instruments):\n",
    "        visitor = Visitors.MaturingAmountConstVisitor(evalDate)\n",
    "        for inst in instruments:\n",
    "            visitor.visit(inst)\n",
    "        return visitor.getResults()        \n",
    "    \n",
    "    def __createNewInstrument(self, startDate, endDate, paymentFrequency, notional, discountContext):\n",
    "        tmpRate = Atlas.InterestRate(0.01, Atlas.Actual360(), Atlas.Compounded, Atlas.Annual)\n",
    "        inst = Atlas.EqualPaymentInstrument(startDate, endDate, paymentFrequency, notional, tmpRate, discountContext2q3w4>azshjklñ)\n",
    "        \n",
    "        tmpIndexer = Visitors.IndexingVisitor()\n",
    "        tmpIndexer.visit(inst)\n",
    "        tmpRequest = tmpIndexer.getResults()\n",
    "        marketData = self.__getMarketData(startDate, tmpRequest)\n",
    "        parRateVisitor = Visitors.ParRateConstVisitor(marketData)\n",
    "        \n",
    "        parRateVisitor.visit(inst)\n",
    "        parRate = parRateVisitor.getResults()['rate']\n",
    "        inst.rate(parRate)\n",
    "        return inst        \n",
    "\n",
    "    def reset(self):\n",
    "        self.simInstruments = []\n",
    "\n",
    "    def simulate(self, instruments, maturity = '5Y'):\n",
    "        evalDate = self.evalStart\n",
    "        period = Parsers.parsePeriod(maturity)\n",
    "        while evalDate <= self.evalEnd:\n",
    "            maturingAmount = self.__getMaturingAmount(evalDate, instruments+self.simInstruments)\n",
    "            inst = self.__createNewInstrument(evalDate, evalDate + period, Atlas.Monthly, maturingAmount, self.marketStore.curveContext(\"CLF\"))\n",
    "            self.simInstruments.append(inst)\n",
    "            evalDate = evalDate + 1"
   ]
  },
  {
   "cell_type": "code",
   "execution_count": 31,
   "metadata": {},
   "outputs": [
    {
     "ename": "RuntimeError",
     "evalue": "unable to bracket root in 100 function evaluations (last bracket attempt: f[-3.10336e+24,1.1936e+24] -> [nan,1.76289e+244])",
     "output_type": "error",
     "traceback": [
      "\u001b[0;31m---------------------------------------------------------------------------\u001b[0m",
      "\u001b[0;31mRuntimeError\u001b[0m                              Traceback (most recent call last)",
      "Cell \u001b[0;32mIn[31], line 2\u001b[0m\n\u001b[1;32m      1\u001b[0m machine \u001b[39m=\u001b[39m RollOverMachine(evalDate, Parsers\u001b[39m.\u001b[39mparseDate(\u001b[39m\"\u001b[39m\u001b[39m2020-12-31\u001b[39m\u001b[39m\"\u001b[39m), store)\n\u001b[0;32m----> 2\u001b[0m machine\u001b[39m.\u001b[39;49msimulate(instruments)\n",
      "Cell \u001b[0;32mIn[30], line 41\u001b[0m, in \u001b[0;36mRollOverMachine.simulate\u001b[0;34m(self, instruments, maturity)\u001b[0m\n\u001b[1;32m     39\u001b[0m \u001b[39mwhile\u001b[39;00m evalDate \u001b[39m<\u001b[39m\u001b[39m=\u001b[39m \u001b[39mself\u001b[39m\u001b[39m.\u001b[39mevalEnd:\n\u001b[1;32m     40\u001b[0m     maturingAmount \u001b[39m=\u001b[39m \u001b[39mself\u001b[39m\u001b[39m.\u001b[39m__getMaturingAmount(evalDate, instruments\u001b[39m+\u001b[39m\u001b[39mself\u001b[39m\u001b[39m.\u001b[39msimInstruments)\n\u001b[0;32m---> 41\u001b[0m     inst \u001b[39m=\u001b[39m \u001b[39mself\u001b[39;49m\u001b[39m.\u001b[39;49m__createNewInstrument(evalDate, evalDate \u001b[39m+\u001b[39;49m period, Atlas\u001b[39m.\u001b[39;49mMonthly, maturingAmount, \u001b[39mself\u001b[39;49m\u001b[39m.\u001b[39;49mmarketStore\u001b[39m.\u001b[39;49mcurveContext(\u001b[39m\"\u001b[39;49m\u001b[39mCLF\u001b[39;49m\u001b[39m\"\u001b[39;49m))\n\u001b[1;32m     42\u001b[0m     \u001b[39mself\u001b[39m\u001b[39m.\u001b[39msimInstruments\u001b[39m.\u001b[39mappend(inst)\n\u001b[1;32m     43\u001b[0m     evalDate \u001b[39m=\u001b[39m evalDate \u001b[39m+\u001b[39m \u001b[39m1\u001b[39m\n",
      "Cell \u001b[0;32mIn[30], line 28\u001b[0m, in \u001b[0;36mRollOverMachine.__createNewInstrument\u001b[0;34m(self, startDate, endDate, paymentFrequency, notional, discountContext)\u001b[0m\n\u001b[1;32m     25\u001b[0m marketData \u001b[39m=\u001b[39m \u001b[39mself\u001b[39m\u001b[39m.\u001b[39m__getMarketData(startDate, tmpRequest)\n\u001b[1;32m     26\u001b[0m parRateVisitor \u001b[39m=\u001b[39m Visitors\u001b[39m.\u001b[39mParRateConstVisitor(marketData)\n\u001b[0;32m---> 28\u001b[0m parRateVisitor\u001b[39m.\u001b[39;49mvisit(inst)\n\u001b[1;32m     29\u001b[0m parRate \u001b[39m=\u001b[39m parRateVisitor\u001b[39m.\u001b[39mgetResults()[\u001b[39m'\u001b[39m\u001b[39mrate\u001b[39m\u001b[39m'\u001b[39m]\n\u001b[1;32m     30\u001b[0m inst\u001b[39m.\u001b[39mrate(parRate)\n",
      "\u001b[0;31mRuntimeError\u001b[0m: unable to bracket root in 100 function evaluations (last bracket attempt: f[-3.10336e+24,1.1936e+24] -> [nan,1.76289e+244])"
     ]
    }
   ],
   "source": [
    "machine = RollOverMachine(evalDate, Parsers.parseDate(\"2020-12-31\"), store)\n",
    "machine.simulate(instruments)"
   ]
  },
  {
   "cell_type": "code",
   "execution_count": null,
   "metadata": {},
   "outputs": [
    {
     "data": {
      "text/plain": [
       "Date(1,8,2021)"
      ]
     },
     "execution_count": 14,
     "metadata": {},
     "output_type": "execute_result"
    }
   ],
   "source": [
    "import QuantLib as ql\n",
    "date = ql.Date(1, 8, 2020)\n",
    "date + ql.Period(1, ql.Years)"
   ]
  }
 ],
 "metadata": {
  "kernelspec": {
   "display_name": "Python 3",
   "language": "python",
   "name": "python3"
  },
  "language_info": {
   "codemirror_mode": {
    "name": "ipython",
    "version": 3
   },
   "file_extension": ".py",
   "mimetype": "text/x-python",
   "name": "python",
   "nbconvert_exporter": "python",
   "pygments_lexer": "ipython3",
   "version": "3.10.13"
  },
  "orig_nbformat": 4
 },
 "nbformat": 4,
 "nbformat_minor": 2
}
